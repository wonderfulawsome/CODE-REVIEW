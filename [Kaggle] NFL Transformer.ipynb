{
 "cells": [
  {
   "cell_type": "code",
   "execution_count": 4,
   "metadata": {},
   "outputs": [
    {
     "name": "stdout",
     "output_type": "stream",
     "text": [
      "Requirement already satisfied: optuna in c:\\users\\82106\\anaconda3\\lib\\site-packages (4.1.0)\n",
      "Requirement already satisfied: packaging>=20.0 in c:\\users\\82106\\anaconda3\\lib\\site-packages (from optuna) (21.3)\n",
      "Requirement already satisfied: colorlog in c:\\users\\82106\\anaconda3\\lib\\site-packages (from optuna) (6.9.0)\n",
      "Requirement already satisfied: numpy in c:\\users\\82106\\anaconda3\\lib\\site-packages (from optuna) (1.26.4)\n",
      "Requirement already satisfied: alembic>=1.5.0 in c:\\users\\82106\\anaconda3\\lib\\site-packages (from optuna) (1.14.0)\n",
      "Requirement already satisfied: PyYAML in c:\\users\\82106\\anaconda3\\lib\\site-packages (from optuna) (6.0)\n",
      "Requirement already satisfied: sqlalchemy>=1.4.2 in c:\\users\\82106\\anaconda3\\lib\\site-packages (from optuna) (1.4.32)\n",
      "Requirement already satisfied: tqdm in c:\\users\\82106\\anaconda3\\lib\\site-packages (from optuna) (4.67.1)\n",
      "Requirement already satisfied: typing-extensions>=4 in c:\\users\\82106\\anaconda3\\lib\\site-packages (from alembic>=1.5.0->optuna) (4.9.0)\n",
      "Requirement already satisfied: Mako in c:\\users\\82106\\anaconda3\\lib\\site-packages (from alembic>=1.5.0->optuna) (1.3.7)\n",
      "Requirement already satisfied: pyparsing!=3.0.5,>=2.0.2 in c:\\users\\82106\\anaconda3\\lib\\site-packages (from packaging>=20.0->optuna) (3.0.4)\n",
      "Requirement already satisfied: greenlet!=0.4.17 in c:\\users\\82106\\anaconda3\\lib\\site-packages (from sqlalchemy>=1.4.2->optuna) (1.1.1)\n",
      "Requirement already satisfied: colorama in c:\\users\\82106\\anaconda3\\lib\\site-packages (from colorlog->optuna) (0.4.4)\n",
      "Requirement already satisfied: MarkupSafe>=0.9.2 in c:\\users\\82106\\anaconda3\\lib\\site-packages (from Mako->alembic>=1.5.0->optuna) (2.0.1)\n"
     ]
    },
    {
     "name": "stderr",
     "output_type": "stream",
     "text": [
      "WARNING: Ignoring invalid distribution -otobuf (c:\\users\\82106\\anaconda3\\lib\\site-packages)\n",
      "WARNING: Ignoring invalid distribution -rotobuf (c:\\users\\82106\\anaconda3\\lib\\site-packages)\n",
      "WARNING: Ignoring invalid distribution - (c:\\users\\82106\\anaconda3\\lib\\site-packages)\n",
      "WARNING: Ignoring invalid distribution -otobuf (c:\\users\\82106\\anaconda3\\lib\\site-packages)\n",
      "WARNING: Ignoring invalid distribution -rotobuf (c:\\users\\82106\\anaconda3\\lib\\site-packages)\n",
      "WARNING: Ignoring invalid distribution - (c:\\users\\82106\\anaconda3\\lib\\site-packages)\n",
      "WARNING: Ignoring invalid distribution -otobuf (c:\\users\\82106\\anaconda3\\lib\\site-packages)\n",
      "WARNING: Ignoring invalid distribution -rotobuf (c:\\users\\82106\\anaconda3\\lib\\site-packages)\n",
      "WARNING: Ignoring invalid distribution - (c:\\users\\82106\\anaconda3\\lib\\site-packages)\n",
      "WARNING: Ignoring invalid distribution -otobuf (c:\\users\\82106\\anaconda3\\lib\\site-packages)\n",
      "WARNING: Ignoring invalid distribution -rotobuf (c:\\users\\82106\\anaconda3\\lib\\site-packages)\n",
      "WARNING: Ignoring invalid distribution - (c:\\users\\82106\\anaconda3\\lib\\site-packages)\n",
      "WARNING: Ignoring invalid distribution -otobuf (c:\\users\\82106\\anaconda3\\lib\\site-packages)\n",
      "WARNING: Ignoring invalid distribution -rotobuf (c:\\users\\82106\\anaconda3\\lib\\site-packages)\n",
      "WARNING: Ignoring invalid distribution - (c:\\users\\82106\\anaconda3\\lib\\site-packages)\n",
      "WARNING: Ignoring invalid distribution -otobuf (c:\\users\\82106\\anaconda3\\lib\\site-packages)\n",
      "WARNING: Ignoring invalid distribution -rotobuf (c:\\users\\82106\\anaconda3\\lib\\site-packages)\n",
      "WARNING: Ignoring invalid distribution - (c:\\users\\82106\\anaconda3\\lib\\site-packages)\n"
     ]
    }
   ],
   "source": [
    "!pip install optuna"
   ]
  },
  {
   "cell_type": "code",
   "execution_count": 29,
   "metadata": {},
   "outputs": [],
   "source": [
    "from scipy.spatial import cKDTree\n",
    "from sklearn.model_selection import train_test_split, StratifiedKFold, cross_val_score\n",
    "from sklearn.ensemble import RandomForestClassifier\n",
    "from sklearn.metrics import accuracy_score, classification_report, roc_auc_score\n",
    "from sklearn.preprocessing import StandardScaler\n",
    "from sklearn.impute import SimpleImputer\n",
    "from sklearn.feature_selection import RFE\n",
    "import pandas as pd\n",
    "import numpy as np\n",
    "import matplotlib.pyplot as plt\n",
    "import seaborn as sns\n",
    "import optuna\n",
    "import xgboost as xgb"
   ]
  },
  {
   "cell_type": "code",
   "execution_count": 30,
   "metadata": {},
   "outputs": [],
   "source": [
    "# 프로젝트 디렉토리 경로 설정\n",
    "project_dir = r'C:\\Users\\82106\\Desktop\\코드 리뷰\\data\\nfl-big-data-bowl-2025'\n",
    "\n",
    "# 필요한 데이터셋 로드\n",
    "games = pd.read_csv(f'{project_dir}/games.csv')\n",
    "plays = pd.read_csv(f'{project_dir}/plays.csv')\n",
    "players = pd.read_csv(f'{project_dir}/players.csv')\n",
    "player_play = pd.read_csv(f'{project_dir}/player_play.csv')\n",
    "tracking_week_1 = pd.read_csv(f'{project_dir}/tracking_week_1.csv')\n",
    "tracking_week_2 = pd.read_csv(f'{project_dir}/tracking_week_2.csv')"
   ]
  },
  {
   "cell_type": "code",
   "execution_count": 31,
   "metadata": {},
   "outputs": [],
   "source": [
    "# gameDate 칼럼을 날짜형식으로\n",
    "games['gameDate'] = pd.to_datetime(games['gameDate'])"
   ]
  },
  {
   "cell_type": "code",
   "execution_count": 32,
   "metadata": {},
   "outputs": [],
   "source": [
    "# 1주차에 열린 특정팀의 경기를 필터링\n",
    "sf_chi_games = games[\n",
    "    (\n",
    "        ((games['homeTeamAbbr'] == 'SF') & (games['visitorTeamAbbr'] == 'CHI')) |\n",
    "        ((games['homeTeamAbbr'] == 'CHI') & (games['visitorTeamAbbr'] == 'SF'))\n",
    "    ) &\n",
    "    (games['week'] == 1)\n",
    "]"
   ]
  },
  {
   "cell_type": "markdown",
   "metadata": {},
   "source": [
    "### San Francisco 49ers(SF)의 2022시즌 1-8주차 경기들을 필터링"
   ]
  },
  {
   "cell_type": "code",
   "execution_count": 33,
   "metadata": {},
   "outputs": [],
   "source": [
    "# Filter for Week 2 game between San Francisco 49ers and Seattle Seahawks on 09/18/2022\n",
    "sf_sea_games = games[\n",
    "    (\n",
    "        ((games['homeTeamAbbr'] == 'SF') & (games['visitorTeamAbbr'] == 'SEA')) |\n",
    "        ((games['homeTeamAbbr'] == 'SEA') & (games['visitorTeamAbbr'] == 'SF'))\n",
    "    ) &\n",
    "    (games['week'] == 2) &\n",
    "    (games['gameDate'] == '2022-09-18')\n",
    "]\n",
    "\n",
    "# Filter for Week 3 game between San Francisco 49ers and Denver Broncos on 09/25/2022\n",
    "sf_den_games = games[\n",
    "    (\n",
    "        ((games['homeTeamAbbr'] == 'SF') & (games['visitorTeamAbbr'] == 'DEN')) |\n",
    "        ((games['homeTeamAbbr'] == 'DEN') & (games['visitorTeamAbbr'] == 'SF'))\n",
    "    ) &\n",
    "    (games['week'] == 3) &\n",
    "    (games['gameDate'] == '2022-09-25')\n",
    "]\n",
    "\n",
    "# Filter for Week 4 game between San Francisco 49ers and Los Angeles Rams on 10/03/2022\n",
    "sf_lar_games_w4 = games[\n",
    "    (\n",
    "        ((games['homeTeamAbbr'] == 'SF') & (games['visitorTeamAbbr'] == 'LAR')) |\n",
    "        ((games['homeTeamAbbr'] == 'LAR') & (games['visitorTeamAbbr'] == 'SF'))\n",
    "    ) &\n",
    "    (games['week'] == 4) &\n",
    "    (games['gameDate'] == '2022-10-03')\n",
    "]\n",
    "\n",
    "# Filter for Week 5 game between San Francisco 49ers and Carolina Panthers on 10/09/2022\n",
    "sf_car_games = games[\n",
    "    (\n",
    "        ((games['homeTeamAbbr'] == 'SF') & (games['visitorTeamAbbr'] == 'CAR')) |\n",
    "        ((games['homeTeamAbbr'] == 'CAR') & (games['visitorTeamAbbr'] == 'SF'))\n",
    "    ) &\n",
    "    (games['week'] == 5) &\n",
    "    (games['gameDate'] == '2022-10-09')\n",
    "]\n",
    "\n",
    "# Filter for Week 6 game between San Francisco 49ers and Atlanta Falcons on 10/16/2022\n",
    "sf_atl_games = games[\n",
    "    (\n",
    "        ((games['homeTeamAbbr'] == 'SF') & (games['visitorTeamAbbr'] == 'ATL')) |\n",
    "        ((games['homeTeamAbbr'] == 'ATL') & (games['visitorTeamAbbr'] == 'SF'))\n",
    "    ) &\n",
    "    (games['week'] == 6) &\n",
    "    (games['gameDate'] == '2022-10-16')\n",
    "]\n",
    "\n",
    "# Filter for Week 7 game between San Francisco 49ers and Kansas City Chiefs on 10/23/2022\n",
    "sf_kc_games = games[\n",
    "    (\n",
    "        ((games['homeTeamAbbr'] == 'SF') & (games['visitorTeamAbbr'] == 'KC')) |\n",
    "        ((games['homeTeamAbbr'] == 'KC') & (games['visitorTeamAbbr'] == 'SF'))\n",
    "    ) &\n",
    "    (games['week'] == 7) &\n",
    "    (games['gameDate'] == '2022-10-23')\n",
    "]\n",
    "\n",
    "# Filter for Week 8 game between San Francisco 49ers and Los Angeles Rams on 10/30/2022\n",
    "sf_lar_games_w8 = games[\n",
    "    (\n",
    "        ((games['homeTeamAbbr'] == 'SF') & (games['visitorTeamAbbr'] == 'LAR')) |\n",
    "        ((games['homeTeamAbbr'] == 'LAR') & (games['visitorTeamAbbr'] == 'SF'))\n",
    "    ) &\n",
    "    (games['week'] == 8) &\n",
    "    (games['gameDate'] == '2022-10-30')\n",
    "]"
   ]
  },
  {
   "cell_type": "code",
   "execution_count": 34,
   "metadata": {},
   "outputs": [],
   "source": [
    "# 선택한 경기들 병합 및 병합데이터를 list로 변환\n",
    "selected_games = pd.concat([\n",
    "    sf_chi_games, sf_sea_games, sf_den_games, sf_lar_games_w4,\n",
    "    sf_car_games, sf_atl_games, sf_kc_games, sf_lar_games_w8\n",
    "])\n",
    "selected_game_ids = selected_games['gameId'].tolist()"
   ]
  },
  {
   "cell_type": "code",
   "execution_count": 35,
   "metadata": {},
   "outputs": [],
   "source": [
    "# plays 와 player_play에  selected_game_ids 경기들 선택\n",
    "plays = plays[plays['gameId'].isin(selected_game_ids)]\n",
    "player_play = player_play[player_play['gameId'].isin(selected_game_ids)]"
   ]
  },
  {
   "cell_type": "code",
   "execution_count": 36,
   "metadata": {},
   "outputs": [],
   "source": [
    "\n",
    "tracking_data_list = []\n",
    "# 1주차 부터 9주차까지 반복 \n",
    "for week in range(1, 9):\n",
    "    # 주차별 tracking 데이터 로드\n",
    "    tracking_week = pd.read_csv(f'{project_dir}/tracking_week_{week}.csv')\n",
    "    # tracking_week의 selected_game_ids 선별\n",
    "    tracking_week_filtered = tracking_week[tracking_week['gameId'].isin(selected_game_ids)]\n",
    "    tracking_data_list.append(tracking_week_filtered)\n"
   ]
  },
  {
   "cell_type": "code",
   "execution_count": 37,
   "metadata": {},
   "outputs": [],
   "source": [
    "# tracking_data_list 병합\n",
    "tracking_data = pd.concat(tracking_data_list, ignore_index=True)\n",
    "# playtype에서 run 과 pass 선택\n",
    "tracking_data = tracking_data[tracking_data['frameType'] == 'BEFORE_SNAP']"
   ]
  },
  {
   "cell_type": "code",
   "execution_count": 38,
   "metadata": {},
   "outputs": [],
   "source": [
    "# Merge games and plays data\n",
    "plays = plays.merge(\n",
    "    games[['gameId', 'homeTeamAbbr', 'visitorTeamAbbr']],\n",
    "    on='gameId', how='left'\n",
    ")\n",
    "\n",
    "# Create target variable 'playType' (run or pass)\n",
    "plays['playType'] = plays['isDropback'].map({True: 'pass', False: 'run'})\n",
    "plays = plays[plays['playType'].isin(['run', 'pass'])]"
   ]
  },
  {
   "cell_type": "markdown",
   "metadata": {},
   "source": [
    "### Feature Engineering\n"
   ]
  },
  {
   "cell_type": "markdown",
   "metadata": {},
   "source": [
    "#### 게임 시간 정보"
   ]
  },
  {
   "cell_type": "code",
   "execution_count": 39,
   "metadata": {},
   "outputs": [],
   "source": [
    "plays['score_difference'] = plays['preSnapHomeScore'] - plays['preSnapVisitorScore']\n",
    "\n",
    "# '1:30' → 90초 식으로 시간을 초로 변환 하는 함수\n",
    "def parse_game_clock(clock_str):\n",
    "    minutes, seconds = map(int, clock_str.split(':'))\n",
    "    return minutes * 60 + seconds\n",
    "\n",
    "plays['seconds_remaining'] = plays.apply(lambda row: (4 - row['quarter']) * 15 * 60 + parse_game_clock(row['gameClock']), axis=1)"
   ]
  },
  {
   "cell_type": "markdown",
   "metadata": {},
   "source": [
    "#### 플레이어 포메이션 변수"
   ]
  },
  {
   "cell_type": "code",
   "execution_count": 40,
   "metadata": {},
   "outputs": [],
   "source": [
    "# 원-핫 인코딩 진행\n",
    "formation_dummies = pd.get_dummies(plays['offenseFormation'], prefix='formation')\n",
    "plays = pd.concat([plays, formation_dummies], axis=1)"
   ]
  },
  {
   "cell_type": "markdown",
   "metadata": {},
   "source": [
    "#### 플레이어 모션 변수"
   ]
  },
  {
   "cell_type": "code",
   "execution_count": 41,
   "metadata": {},
   "outputs": [],
   "source": [
    "# gameId, playId 별로 그룹화 하고 sum으로 집계\n",
    "motion_features = player_play.groupby(['gameId', 'playId']).agg({\n",
    "    'inMotionAtBallSnap': 'sum',\n",
    "    'shiftSinceLineset': 'sum',\n",
    "    'motionSinceLineset': 'sum'\n",
    "}).reset_index()\n",
    "\n",
    "plays = plays.merge(motion_features, on=['gameId', 'playId'], how='left')"
   ]
  },
  {
   "cell_type": "markdown",
   "metadata": {},
   "source": [
    "#### 디펜스 커버 변수"
   ]
  },
  {
   "cell_type": "code",
   "execution_count": 42,
   "metadata": {},
   "outputs": [],
   "source": [
    "# 원-핫 인코딩 진행\n",
    "## prefix 는 새로운 열들의 이름앞에 붙는 접두사 생성\n",
    "coverage_dummies = pd.get_dummies(plays['pff_passCoverage'], prefix='coverage')\n",
    "plays = pd.concat([plays, coverage_dummies], axis=1)"
   ]
  },
  {
   "cell_type": "markdown",
   "metadata": {},
   "source": [
    "#### Pre_snap player 포지션 변수"
   ]
  },
  {
   "cell_type": "code",
   "execution_count": 43,
   "metadata": {},
   "outputs": [],
   "source": [
    "# 스냅전 순간의 공격팀과 수비팀의 평균 위치를 계산\n",
    "def get_presnap_positions(group):\n",
    "    presnap = group[group['frameType'] == 'BEFORE_SNAP']\n",
    "    if presnap.empty:\n",
    "        return pd.Series({'presnap_offense_x_mean': np.nan, 'presnap_offense_y_mean': np.nan,\n",
    "                          'presnap_defense_x_mean': np.nan, 'presnap_defense_y_mean': np.nan})\n",
    "    \n",
    "    # Get the first gameId and playId from the group\n",
    "    game_id = group['gameId'].iloc[0]\n",
    "    play_id = group['playId'].iloc[0]\n",
    "    \n",
    "    # Use .loc to select the possession team\n",
    "    possession_team = plays.loc[(plays['gameId'] == game_id) & (plays['playId'] == play_id), 'possessionTeam'].iloc[0]\n",
    "    \n",
    "    presnap['teamType'] = np.where(presnap['club'] == possession_team, 'offense', 'defense')\n",
    "    \n",
    "    offense = presnap[presnap['teamType'] == 'offense']\n",
    "    defense = presnap[presnap['teamType'] == 'defense']\n",
    "    \n",
    "    return pd.Series({\n",
    "        'presnap_offense_x_mean': offense['x'].mean(),\n",
    "        'presnap_offense_y_mean': offense['y'].mean(),\n",
    "        'presnap_defense_x_mean': defense['x'].mean(),\n",
    "        'presnap_defense_y_mean': defense['y'].mean()\n",
    "    })"
   ]
  },
  {
   "cell_type": "code",
   "execution_count": 44,
   "metadata": {},
   "outputs": [],
   "source": [
    "presnap_positions = tracking_data.groupby(['gameId', 'playId']).apply(get_presnap_positions).reset_index()\n",
    "plays = plays.merge(presnap_positions, on=['gameId', 'playId'], how='left')"
   ]
  },
  {
   "cell_type": "code",
   "execution_count": 45,
   "metadata": {},
   "outputs": [],
   "source": [
    "tracking_data = tracking_data.merge(\n",
    "    plays[['gameId', 'playId', 'possessionTeam', 'homeTeamAbbr', 'visitorTeamAbbr']],\n",
    "    on=['gameId', 'playId'],\n",
    "    how='left'\n",
    ")"
   ]
  },
  {
   "cell_type": "code",
   "execution_count": 46,
   "metadata": {},
   "outputs": [],
   "source": [
    "def identify_team_type(row):\n",
    "    if pd.isna(row['nflId']):\n",
    "        return 'football'\n",
    "    elif row['club'] == row['possessionTeam']:\n",
    "        return 'offense'\n",
    "    else:\n",
    "        return 'defense'\n",
    "    \n",
    "tracking_data['teamType'] = tracking_data.apply(identify_team_type, axis=1)"
   ]
  },
  {
   "cell_type": "code",
   "execution_count": null,
   "metadata": {},
   "outputs": [],
   "source": [
    "def is_offense(row):\n",
    "    return 1 if row['teamType'] == 'offense' else 0"
   ]
  }
 ],
 "metadata": {
  "kernelspec": {
   "display_name": "base",
   "language": "python",
   "name": "python3"
  },
  "language_info": {
   "codemirror_mode": {
    "name": "ipython",
    "version": 3
   },
   "file_extension": ".py",
   "mimetype": "text/x-python",
   "name": "python",
   "nbconvert_exporter": "python",
   "pygments_lexer": "ipython3",
   "version": "3.9.12"
  }
 },
 "nbformat": 4,
 "nbformat_minor": 2
}
